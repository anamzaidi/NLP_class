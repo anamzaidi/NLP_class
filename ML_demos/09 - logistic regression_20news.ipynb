{
 "cells": [
  {
   "cell_type": "markdown",
   "metadata": {},
   "source": [
    "# Logistic Regression Multi-class Classification\n",
    "\n",
    "In an earlier notebook we applied Naive Bayes to the dataset 20Newsgroups is a collection of 20K newsgroup documents in 20 categories. In previous notebooks we used logistic regression for a binary target. Here we want to see how to use Logistic Regression with a multi-class target. \n",
    "\n",
    "There are two ways to use logistic regression when your target has more than two classes. One is to build several one-versus-all classifiers where you are predicting class x verses all others for every class x in the data. A much simpler way is available in sklearn, which is that sklearn can a logistic regression function over multiclass labels. \n",
    "\n",
    "This notebook is modified from a tutorial in sklearn.\n",
    "\n"
   ]
  },
  {
   "cell_type": "code",
   "execution_count": 3,
   "metadata": {
    "collapsed": false
   },
   "outputs": [
    {
     "data": {
      "text/plain": [
       "['alt.atheism', 'comp.graphics', 'sci.med', 'soc.religion.christian']"
      ]
     },
     "execution_count": 3,
     "metadata": {},
     "output_type": "execute_result"
    }
   ],
   "source": [
    "categories = ['alt.atheism', 'soc.religion.christian', 'comp.graphics', 'sci.med']\n",
    "from sklearn.datasets import fetch_20newsgroups\n",
    "twenty_train = fetch_20newsgroups(subset='train', \n",
    "                                  categories=categories, shuffle=True, random_state=42)\n",
    "twenty_train.target_names"
   ]
  },
  {
   "cell_type": "markdown",
   "metadata": {},
   "source": [
    "Since we have a multi-class label, we need to encode labels to integer classes. "
   ]
  },
  {
   "cell_type": "code",
   "execution_count": 4,
   "metadata": {
    "collapsed": false
   },
   "outputs": [
    {
     "data": {
      "text/plain": [
       "array([1, 1, 3, ..., 2, 2, 2])"
      ]
     },
     "execution_count": 4,
     "metadata": {},
     "output_type": "execute_result"
    }
   ],
   "source": [
    "# notice that are target is multi-class\n",
    "twenty_train.target"
   ]
  },
  {
   "cell_type": "markdown",
   "metadata": {},
   "source": [
    "#### Multinomial Logistic Regression\n",
    "\n",
    "We need to set a few parameters if we want to give sklearn a heads-up that our target has more than 2 classes, so we set these parameters in the LogisticRegression() call:\n",
    "\n",
    "- multi_class='multinomial'\n",
    "- solver = 'lbfgs'\n",
    "\n",
    "For one-versus-all, you should use liblinear solver, the default. For multinomial logistic regression, the solver has to be sag, saga, newton-cg or lbfgs. We chose lbfgs, which is a Newton-inspired optimizer that doesn't use a lot of memory (l is for limited memory). The sag solvers are variants of gradient descent."
   ]
  },
  {
   "cell_type": "code",
   "execution_count": 16,
   "metadata": {
    "collapsed": false
   },
   "outputs": [
    {
     "data": {
      "text/plain": [
       "Pipeline(memory=None,\n",
       "     steps=[('tfidf', TfidfVectorizer(analyzer='word', binary=False, decode_error='strict',\n",
       "        dtype=<class 'numpy.int64'>, encoding='utf-8', input='content',\n",
       "        lowercase=True, max_df=1.0, max_features=None, min_df=1,\n",
       "        ngram_range=(1, 1), norm='l2', preprocessor=None, smooth_idf=True,\n",
       " ...',\n",
       "          random_state=None, solver='lbfgs', tol=0.0001, verbose=0,\n",
       "          warm_start=False))])"
      ]
     },
     "execution_count": 16,
     "metadata": {},
     "output_type": "execute_result"
    }
   ],
   "source": [
    "from sklearn.pipeline import Pipeline\n",
    "from sklearn.feature_extraction.text import TfidfVectorizer\n",
    "from sklearn.linear_model.logistic import LogisticRegression\n",
    "from sklearn.metrics import accuracy_score, precision_score, recall_score, f1_score, log_loss\n",
    "\n",
    "pipe1 = Pipeline([\n",
    "        ('tfidf', TfidfVectorizer()),\n",
    "        ('logreg', LogisticRegression(multi_class='multinomial', solver='lbfgs', class_weight='balanced')),\n",
    "])\n",
    "\n",
    "pipe1.fit(twenty_train.data, twenty_train.target)"
   ]
  },
  {
   "cell_type": "code",
   "execution_count": 21,
   "metadata": {
    "collapsed": false
   },
   "outputs": [
    {
     "name": "stdout",
     "output_type": "stream",
     "text": [
      "                        precision    recall  f1-score   support\n",
      "\n",
      "           alt.atheism       0.95      0.81      0.87       319\n",
      "         comp.graphics       0.85      0.96      0.90       389\n",
      "               sci.med       0.93      0.88      0.90       396\n",
      "soc.religion.christian       0.90      0.94      0.92       398\n",
      "\n",
      "           avg / total       0.91      0.90      0.90      1502\n",
      "\n",
      "Confusion matrix:\n",
      " [[258  13  14  34]\n",
      " [  3 374   6   6]\n",
      " [  5  41 347   3]\n",
      " [  6  11   5 376]]\n",
      "\n",
      "Overall accuracy:  0.902130492676\n"
     ]
    }
   ],
   "source": [
    "# evaluate on test data\n",
    "twenty_test = fetch_20newsgroups(subset='test', categories=categories, shuffle=True, random_state=42)\n",
    "pred = pipe1.predict(twenty_test.data)\n",
    "\n",
    "from sklearn import metrics\n",
    "print(metrics.classification_report(twenty_test.target, pred,\n",
    "     target_names=twenty_test.target_names))\n",
    "\n",
    "print(\"Confusion matrix:\\n\", metrics.confusion_matrix(twenty_test.target, pred))\n",
    "\n",
    "import numpy as np\n",
    "print(\"\\nOverall accuracy: \", np.mean(pred==twenty_test.target))"
   ]
  },
  {
   "cell_type": "code",
   "execution_count": null,
   "metadata": {
    "collapsed": true
   },
   "outputs": [],
   "source": []
  }
 ],
 "metadata": {
  "kernelspec": {
   "display_name": "Python 3",
   "language": "python",
   "name": "python3"
  },
  "language_info": {
   "codemirror_mode": {
    "name": "ipython",
    "version": 3
   },
   "file_extension": ".py",
   "mimetype": "text/x-python",
   "name": "python",
   "nbconvert_exporter": "python",
   "pygments_lexer": "ipython3",
   "version": "3.5.0"
  }
 },
 "nbformat": 4,
 "nbformat_minor": 0
}
