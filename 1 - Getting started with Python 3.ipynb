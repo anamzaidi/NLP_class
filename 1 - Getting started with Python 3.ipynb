{
 "cells": [
  {
   "cell_type": "markdown",
   "metadata": {},
   "source": [
    "# Getting started with Python 3\n",
    "\n",
    "This overview of Python 3 assumes no prior knowledge of Python but prior programming experience in some language."
   ]
  },
  {
   "cell_type": "markdown",
   "metadata": {},
   "source": [
    "## Things to know about Python\n",
    "\n",
    "* an interpreted language\n",
    "* source code is compiled into bytecode to be executed by the os\n",
    "* there are no type declarations\n",
    "* types are checked dynamically at run time not when code is compiled\n",
    "* uses indents not {} to identify code blocks\n",
    "* end of line is end of statement, no ; required\n",
    "* tab/space wars: 4 spaces (but PyCharm IDE fixes tabs for you)\n",
    "* underscore/camelCase wars: underscore preferred \n",
    "* case sensitive\n",
    "* comments begin with # \n",
    "* significant changes from Versions 2-> 3 broke backward compatability\n",
    "\n",
    "One of the best ways to learn about Python is to play with it at the console.\n",
    "Type this at the console and follow along with this notebook:\n",
    "\n",
    "$python\n",
    "\n",
    "\n",
    "### Variables\n",
    "\n",
    "Think of Python variables as pointers to memory locations. The type of the variable is determined by its contents. Assign it to different contents, and it's a different type of variable, pointing to a different memory location. \n",
    "\n",
    "When you type a variable at the console, Pythod returns its value. We can also use the print() function to view the contents. \n"
   ]
  },
  {
   "cell_type": "code",
   "execution_count": 1,
   "metadata": {},
   "outputs": [
    {
     "name": "stdout",
     "output_type": "stream",
     "text": [
      "5\n"
     ]
    },
    {
     "data": {
      "text/plain": [
       "'a'"
      ]
     },
     "execution_count": 1,
     "metadata": {},
     "output_type": "execute_result"
    }
   ],
   "source": [
    "v = 5      # v is an int\n",
    "print(v)\n",
    "v = 'a'    # now v is a string of length 1 (there is no char)\n",
    "v\n"
   ]
  },
  {
   "cell_type": "markdown",
   "metadata": {},
   "source": [
    "What can you do with ints and strings? We'll talk a lot about strings later."
   ]
  },
  {
   "cell_type": "code",
   "execution_count": 2,
   "metadata": {},
   "outputs": [
    {
     "data": {
      "text/plain": [
       "6"
      ]
     },
     "execution_count": 2,
     "metadata": {},
     "output_type": "execute_result"
    }
   ],
   "source": [
    "v = 5\n",
    "v += 1   # Python doesn't have the ++ or -- operators\n",
    "v"
   ]
  },
  {
   "cell_type": "code",
   "execution_count": 3,
   "metadata": {},
   "outputs": [
    {
     "data": {
      "text/plain": [
       "'ab'"
      ]
     },
     "execution_count": 3,
     "metadata": {},
     "output_type": "execute_result"
    }
   ],
   "source": [
    "v = 'a'\n",
    "v += 'b'   # + used for concatenation\n",
    "v"
   ]
  },
  {
   "cell_type": "markdown",
   "metadata": {},
   "source": [
    "Don't be afraid to break stuff."
   ]
  },
  {
   "cell_type": "code",
   "execution_count": 5,
   "metadata": {},
   "outputs": [
    {
     "ename": "TypeError",
     "evalue": "must be str, not int",
     "output_type": "error",
     "traceback": [
      "\u001b[1;31m---------------------------------------------------------------------------\u001b[0m",
      "\u001b[1;31mTypeError\u001b[0m                                 Traceback (most recent call last)",
      "\u001b[1;32m<ipython-input-5-78d46613ad48>\u001b[0m in \u001b[0;36m<module>\u001b[1;34m()\u001b[0m\n\u001b[1;32m----> 1\u001b[1;33m \u001b[0mv\u001b[0m \u001b[1;33m+=\u001b[0m \u001b[1;36m1\u001b[0m  \u001b[1;31m# oops\u001b[0m\u001b[1;33m\u001b[0m\u001b[0m\n\u001b[0m",
      "\u001b[1;31mTypeError\u001b[0m: must be str, not int"
     ]
    }
   ],
   "source": [
    "v += 1  # oops"
   ]
  },
  {
   "cell_type": "markdown",
   "metadata": {},
   "source": [
    "To reinforce the idea that variables just point to locations, observe this:"
   ]
  },
  {
   "cell_type": "code",
   "execution_count": 6,
   "metadata": {},
   "outputs": [
    {
     "name": "stdout",
     "output_type": "stream",
     "text": [
      "0x6e7ba4e0 0x6e7ba4e0\n",
      "0x6e7ba500 0x6e7ba4e0\n"
     ]
    }
   ],
   "source": [
    "a = 5\n",
    "b = 5\n",
    "print(hex(id(a)), hex(id(b)))  # a and b point to same location\n",
    "a += 1\n",
    "print(hex(id(a)), hex(id(b)))  # now they don't"
   ]
  },
  {
   "cell_type": "markdown",
   "metadata": {},
   "source": [
    "### Types\n",
    "\n",
    "Common data types include:\n",
    "* int (non-limited length)\n",
    "* float (same as a C double)\n",
    "* complex\n",
    "* boolean (built-in values are True, False)\n",
    "* string ('single' or \"double\" quotes)"
   ]
  },
  {
   "cell_type": "markdown",
   "metadata": {
    "collapsed": true
   },
   "source": [
    "## Console input and output\n",
    "\n",
    "* print() for console output\n",
    "* input(\"prompt\") for console input"
   ]
  },
  {
   "cell_type": "code",
   "execution_count": null,
   "metadata": {
    "collapsed": true
   },
   "outputs": [],
   "source": [
    "name = input(\"What's your name?\")\n",
    "print('Hello ', name, '!')"
   ]
  },
  {
   "cell_type": "markdown",
   "metadata": {
    "collapsed": true
   },
   "source": [
    "#### Practice\n",
    "\n",
    "Write some code to input circle radius from the user and calculate and display the area. Hints:\n",
    "* the Python exponent operator is **\n",
    "* convert a string to a number with int() or float()"
   ]
  },
  {
   "cell_type": "code",
   "execution_count": 7,
   "metadata": {},
   "outputs": [],
   "source": [
    "# your code here"
   ]
  },
  {
   "cell_type": "markdown",
   "metadata": {
    "collapsed": true
   },
   "source": [
    "### Python programs\n",
    "\n",
    "ok, we need more than the console, we need to write programs, often called scripts.\n",
    "\n",
    "A python program is a text file that ends in .py\n",
    "\n",
    "You can run it at the console like this:\n",
    "\n",
    "$python myfile.py\n",
    "\n",
    "Of course, the command line is highly system-dependent. \n",
    "\n",
    "So technically, all you need is a simple text editor, but using an IDE like PyCharm will make coding easier."
   ]
  },
  {
   "cell_type": "markdown",
   "metadata": {
    "collapsed": true
   },
   "source": [
    "#### Practice\n",
    "\n",
    "Write the code you used before for the area of a circle in a .py file and run it at the console."
   ]
  },
  {
   "cell_type": "markdown",
   "metadata": {
    "collapsed": true
   },
   "source": [
    "In *nix systems it is customary to start the script with a shebang:"
   ]
  },
  {
   "cell_type": "code",
   "execution_count": 9,
   "metadata": {
    "collapsed": true
   },
   "outputs": [],
   "source": [
    "#!/usr/bin/env python"
   ]
  },
  {
   "cell_type": "markdown",
   "metadata": {
    "collapsed": true
   },
   "source": []
  }
 ],
 "metadata": {
  "kernelspec": {
   "display_name": "Python 3",
   "language": "python",
   "name": "python3"
  },
  "language_info": {
   "codemirror_mode": {
    "name": "ipython",
    "version": 3
   },
   "file_extension": ".py",
   "mimetype": "text/x-python",
   "name": "python",
   "nbconvert_exporter": "python",
   "pygments_lexer": "ipython3",
   "version": "3.6.0rc1"
  }
 },
 "nbformat": 4,
 "nbformat_minor": 2
}
