{
 "cells": [
  {
   "cell_type": "markdown",
   "metadata": {},
   "source": [
    "# 3.2 more about string processing\n",
    "\n",
    "A string is an immutable sequence of Unicode characters. So, unlike a list, we cannot change a character in a string. Instead, we'd have to build a new string.  \n",
    "\n",
    "\n"
   ]
  },
  {
   "cell_type": "code",
   "execution_count": 18,
   "metadata": {
    "collapsed": true
   },
   "outputs": [],
   "source": [
    "name = 'John'\n",
    "# can't do this:  name[2] = 'a'"
   ]
  },
  {
   "cell_type": "markdown",
   "metadata": {},
   "source": [
    "Literal strings can be enclosed in single or double quotes. You can escape special characters. Some interesting operations on strings are + for concatenation and * for replication.\n"
   ]
  },
  {
   "cell_type": "code",
   "execution_count": 2,
   "metadata": {
    "collapsed": false
   },
   "outputs": [
    {
     "name": "stdout",
     "output_type": "stream",
     "text": [
      "I bought Mary's Gone Crackers for my mother.\n"
     ]
    }
   ],
   "source": [
    "brand = 'Mary\\'s Gone Crackers'\n",
    "print(\"I bought \" + brand + \" for my mother.\")"
   ]
  },
  {
   "cell_type": "code",
   "execution_count": 5,
   "metadata": {
    "collapsed": false
   },
   "outputs": [
    {
     "name": "stdout",
     "output_type": "stream",
     "text": [
      "She hated them very very very much.\n"
     ]
    }
   ],
   "source": [
    "print('She hated them ' + 'very '*3 + 'much.')"
   ]
  },
  {
   "cell_type": "code",
   "execution_count": 7,
   "metadata": {
    "collapsed": false
   },
   "outputs": [
    {
     "name": "stdout",
     "output_type": "stream",
     "text": [
      "Shall I compare thee to a Summer's Day? Thou are more lovely and more temperate:\n"
     ]
    }
   ],
   "source": [
    "# long strings can be handled like this\n",
    "couplet = \"Shall I compare thee to a Summer's Day? \"\\\n",
    "        \"Thou are more lovely and more temperate:\"\n",
    "print(couplet)"
   ]
  },
  {
   "cell_type": "markdown",
   "metadata": {},
   "source": [
    "The above didn't give us a newline between the lines. If that's what we want we can use triple quotes."
   ]
  },
  {
   "cell_type": "code",
   "execution_count": 9,
   "metadata": {
    "collapsed": false
   },
   "outputs": [
    {
     "name": "stdout",
     "output_type": "stream",
     "text": [
      "Shall I compare thee to a Summer's Day? \n",
      "Thou are more lovely and more temperate:\n"
     ]
    }
   ],
   "source": [
    "couplet = \"\"\"Shall I compare thee to a Summer's Day? \n",
    "Thou are more lovely and more temperate:\"\"\"\n",
    "print(couplet)"
   ]
  },
  {
   "cell_type": "markdown",
   "metadata": {},
   "source": [
    "Strings, like arrays, are indexed from 0 to length-1. And you can also use negative indices.\n"
   ]
  },
  {
   "cell_type": "code",
   "execution_count": 12,
   "metadata": {
    "collapsed": false
   },
   "outputs": [
    {
     "name": "stdout",
     "output_type": "stream",
     "text": [
      "S :\n",
      "S :\n"
     ]
    }
   ],
   "source": [
    "print(couplet[0], couplet[len(couplet)-1])\n",
    "print(couplet[0], couplet[-1])"
   ]
  },
  {
   "cell_type": "markdown",
   "metadata": {},
   "source": [
    "We can iterate over the characters in a string like we iterate over items in a list."
   ]
  },
  {
   "cell_type": "code",
   "execution_count": 13,
   "metadata": {
    "collapsed": false
   },
   "outputs": [
    {
     "name": "stdout",
     "output_type": "stream",
     "text": [
      "h\n",
      "e\n",
      "l\n",
      "l\n",
      "o\n"
     ]
    }
   ],
   "source": [
    "for char in 'hello':\n",
    "    print(char)"
   ]
  },
  {
   "cell_type": "markdown",
   "metadata": {},
   "source": [
    "### slicing\n",
    "\n",
    "Slicing a string uses the indices \"\\[start:stop-1\\]\"\n",
    "\n",
    "s[n:] subsets everything from index n to the rest of the string\n",
    "s[:n] subsets everything from the first to up to but not including the nth.\n",
    "s[m:n] subsets everything from the mth up to but not including the nth\n",
    "s[:] subsets everything "
   ]
  },
  {
   "cell_type": "code",
   "execution_count": 17,
   "metadata": {
    "collapsed": false
   },
   "outputs": [
    {
     "name": "stdout",
     "output_type": "stream",
     "text": [
      "bcde\n",
      "abc\n",
      "bcd\n",
      "abcde\n"
     ]
    }
   ],
   "source": [
    "alpha = 'abcde'\n",
    "print(alpha[1:])\n",
    "print(alpha[:3])\n",
    "print(alpha[1:4])\n",
    "print(alpha[:])"
   ]
  },
  {
   "cell_type": "markdown",
   "metadata": {},
   "source": [
    "### string methods\n",
    "\n",
    "There are many, many built-in string methods in Python. To make this easier to digest we'll group them by what kinds of  things they do.\n",
    "\n",
    "#### searching methods"
   ]
  },
  {
   "cell_type": "code",
   "execution_count": 29,
   "metadata": {
    "collapsed": false
   },
   "outputs": [
    {
     "name": "stdout",
     "output_type": "stream",
     "text": [
      "this#is#an#example#of#a#string this is an example of a string\n"
     ]
    }
   ],
   "source": [
    "s = 'this is an example of a string'\n",
    "s.find('example')  # returns index or -1 if not found\n",
    "s.index('example') # same as find, but raises exception if not found\n",
    "# there are also .rfind and .rindex functions that work the same but start from the right\n",
    "s.startswith('this')  # returns True\n",
    "s.endswith('ing') # returns True\n",
    "s.count('i')  # returns the integer count of the substring\n",
    "\n",
    "# the following searches and replaces\n",
    "new_s = s.replace(' ','#')\n",
    "print(new_s, s)  # notice that the original was not affected"
   ]
  },
  {
   "cell_type": "markdown",
   "metadata": {},
   "source": [
    "#### splitting and joining methods\n",
    "\n",
    "The splitting functions return a list while the joining methods return strings. "
   ]
  },
  {
   "cell_type": "code",
   "execution_count": 28,
   "metadata": {
    "collapsed": false
   },
   "outputs": [
    {
     "name": "stdout",
     "output_type": "stream",
     "text": [
      "['this', 'is', 'an', 'example', 'of', 'a', 'string']\n",
      "['th', 's ', 's an example of a str', 'ng']\n",
      "['ok', 'ok']\n",
      "this*is*an*example*of*a*string\n"
     ]
    }
   ],
   "source": [
    "print(s.split())  # default split is whitespace\n",
    "print(s.split('i'))  # using 'i' as a delimiter\n",
    "print('ok\\nok'.splitlines())  # returns a list of lines\n",
    "tokens = s.split()\n",
    "print('*'.join(tokens))"
   ]
  },
  {
   "cell_type": "markdown",
   "metadata": {},
   "source": [
    "### formatting methods\n",
    "\n",
    "Here are a few of the more useful formatting methods."
   ]
  },
  {
   "cell_type": "code",
   "execution_count": 35,
   "metadata": {
    "collapsed": false
   },
   "outputs": [
    {
     "name": "stdout",
     "output_type": "stream",
     "text": [
      "spacey\n"
     ]
    },
    {
     "data": {
      "text/plain": [
       "'THIS IS AN EXAMPLE OF A STRING'"
      ]
     },
     "execution_count": 35,
     "metadata": {},
     "output_type": "execute_result"
    }
   ],
   "source": [
    "print(' spacey '.strip())  # remove leading and trailing whitespace\n",
    "# there are also .lstrip and .rstrip methods to remove from just one end\n",
    "s.upper()  # returns a string converted to upper\n",
    "# there is also a .lower and a .swapcase\n"
   ]
  },
  {
   "cell_type": "markdown",
   "metadata": {},
   "source": [
    "### content test methods"
   ]
  },
  {
   "cell_type": "code",
   "execution_count": 41,
   "metadata": {
    "collapsed": false
   },
   "outputs": [
    {
     "data": {
      "text/plain": [
       "False"
      ]
     },
     "execution_count": 41,
     "metadata": {},
     "output_type": "execute_result"
    }
   ],
   "source": [
    "'123'.isdigit()  # returns True\n",
    "'123'.isalpha()  # returns False"
   ]
  },
  {
   "cell_type": "markdown",
   "metadata": {},
   "source": [
    "# Unicode\n",
    "\n",
    "As stated above a string is a sequence of Unicode characters. *Diving into Python* [Chapter 4](http://www.diveintopython3.net/strings.html) provides a thorough explanation of Unicode and Python."
   ]
  },
  {
   "cell_type": "code",
   "execution_count": null,
   "metadata": {
    "collapsed": true
   },
   "outputs": [],
   "source": []
  }
 ],
 "metadata": {
  "kernelspec": {
   "display_name": "Python 3",
   "language": "python",
   "name": "python3"
  },
  "language_info": {
   "codemirror_mode": {
    "name": "ipython",
    "version": 3
   },
   "file_extension": ".py",
   "mimetype": "text/x-python",
   "name": "python",
   "nbconvert_exporter": "python",
   "pygments_lexer": "ipython3",
   "version": "3.5.0"
  }
 },
 "nbformat": 4,
 "nbformat_minor": 0
}
