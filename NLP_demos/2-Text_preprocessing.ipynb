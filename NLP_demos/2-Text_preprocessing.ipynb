{
 "cells": [
  {
   "cell_type": "markdown",
   "metadata": {},
   "source": [
    "# Text Preprocessing\n",
    "\n",
    "A first step in many nlp applications is cleaning up and standardizing texts in several ways. Which of these you choose to use will depend on your application. Common preprocessing steps are:\n",
    "* removing newlines\n",
    "* lowercasing the text\n",
    "* removing stop words\n",
    "* removing punctuation"
   ]
  },
  {
   "cell_type": "code",
   "execution_count": 6,
   "metadata": {
    "collapsed": false
   },
   "outputs": [
    {
     "name": "stdout",
     "output_type": "stream",
     "text": [
      "I am Sam. \n",
      "Sam I am. \n",
      "I do not like green eggs and ham.\n",
      "\n"
     ]
    }
   ],
   "source": [
    "text = \"\"\"I am Sam. \\nSam I am. \\nI do not like green eggs and ham.\\n\"\"\"\n",
    "print(text)"
   ]
  },
  {
   "cell_type": "markdown",
   "metadata": {},
   "source": [
    "### remove newlines\n",
    "\n",
    "Sometimes you may *not* want to remove newlines, for example if you want to keep paragraph text together. Below we see an example of removing newlines by using the string method **.replace()**, in which the first argument is the thing to be replaced and the second argument is what you want to replace it with, in this case nothing ''."
   ]
  },
  {
   "cell_type": "code",
   "execution_count": 7,
   "metadata": {
    "collapsed": false
   },
   "outputs": [
    {
     "name": "stdout",
     "output_type": "stream",
     "text": [
      "I am Sam. Sam I am. I do not like green eggs and ham.\n"
     ]
    }
   ],
   "source": [
    "text = text.replace('\\n','')\n",
    "print(text)"
   ]
  },
  {
   "cell_type": "markdown",
   "metadata": {},
   "source": [
    "### lowercase\n",
    "\n",
    "The lowercase() function can convert the entire text to lower case."
   ]
  },
  {
   "cell_type": "code",
   "execution_count": 8,
   "metadata": {
    "collapsed": false
   },
   "outputs": [
    {
     "name": "stdout",
     "output_type": "stream",
     "text": [
      "i am sam. sam i am. i do not like green eggs and ham.\n"
     ]
    }
   ],
   "source": [
    "text = text.lower()\n",
    "print(text)"
   ]
  },
  {
   "cell_type": "markdown",
   "metadata": {},
   "source": [
    "### tokenize and remove stopwords and punctuation\n",
    "\n",
    "When we want to count words we often want to omit punctuation and stop words. Stop words are common words that don't carry a lot of meaning.\n",
    "\n",
    "First we have to import nltk word_tokenize and stopwords. We also import the string class so that we can get a list of punctuation symbols. \n",
    "\n",
    "After tokenizing the text we used a list comprehension to remove stop words and punctuation. A list comprehension is like shorthand for a loop. The list comprehension below creates a new list by looping through each word in the tokens list and not including it if it is a stop word or a punctuation symbol."
   ]
  },
  {
   "cell_type": "code",
   "execution_count": 9,
   "metadata": {
    "collapsed": false
   },
   "outputs": [
    {
     "name": "stdout",
     "output_type": "stream",
     "text": [
      "tokens after tokenizing:  ['i', 'am', 'sam', '.', 'sam', 'i', 'am', '.', 'i', 'do', 'not', 'like', 'green', 'eggs', 'and', 'ham', '.']\n",
      "tokens after removing stop words and punctuation:  ['sam', 'sam', 'like', 'green', 'eggs', 'ham']\n"
     ]
    }
   ],
   "source": [
    "from nltk import word_tokenize\n",
    "from nltk.corpus import stopwords\n",
    "import string\n",
    "    \n",
    "tokens = word_tokenize(text)\n",
    "print(\"tokens after tokenizing: \", tokens)\n",
    "tokens = [word for word in tokens if word not in stopwords.words('english') and \n",
    "          word not in string.punctuation]\n",
    "print(\"tokens after removing stop words and punctuation: \", tokens)"
   ]
  },
  {
   "cell_type": "code",
   "execution_count": null,
   "metadata": {
    "collapsed": true
   },
   "outputs": [],
   "source": []
  }
 ],
 "metadata": {
  "kernelspec": {
   "display_name": "Python 3",
   "language": "python",
   "name": "python3"
  },
  "language_info": {
   "codemirror_mode": {
    "name": "ipython",
    "version": 3
   },
   "file_extension": ".py",
   "mimetype": "text/x-python",
   "name": "python",
   "nbconvert_exporter": "python",
   "pygments_lexer": "ipython3",
   "version": "3.5.0"
  }
 },
 "nbformat": 4,
 "nbformat_minor": 0
}
