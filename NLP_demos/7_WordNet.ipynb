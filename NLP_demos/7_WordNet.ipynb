{
 "cells": [
  {
   "cell_type": "markdown",
   "metadata": {},
   "source": [
    "# WordNet\n",
    "\n",
    "NLTK proves a Python interface to WordNet. \n",
    "\n",
    "WordNet is a lexical database for English. As described on [the home page](https://wordnet.princeton.edu/): Nouns, verbs, adjectives and adverbs are grouped into sets of cognitive synonyms called synsets that each express a distinct concept. Synsets are interlinked by semantic and lexical relations. \n",
    "\n",
    "Words are linked in various relations, including:\n",
    "* hypernym (higher) --  canine is a hypernym of dog\n",
    "* hyponym (lower) -- a dog is a hyponym of canine\n",
    "* meronym (part of) --  wheel is a meronym of car\n",
    "* holonym (whole) -- car is a holonym of wheel\n",
    "\n",
    "\n",
    "This notebook looks at some ways to use WordNet. First, we need to import it. "
   ]
  },
  {
   "cell_type": "code",
   "execution_count": 1,
   "metadata": {
    "collapsed": true
   },
   "outputs": [],
   "source": [
    "from nltk.corpus import wordnet as wn"
   ]
  },
  {
   "cell_type": "markdown",
   "metadata": {},
   "source": [
    "## synsets\n",
    "\n",
    "We can look up synsets for a word. There is an optional POS parameter: VERB, NOUN, ADJ, or ADV.  A synset has a 3-part name: word.pos.nn. As we see below, there are 7 noun synsets and one verb synset."
   ]
  },
  {
   "cell_type": "code",
   "execution_count": 2,
   "metadata": {
    "collapsed": false
   },
   "outputs": [
    {
     "data": {
      "text/plain": [
       "[Synset('dog.n.01'),\n",
       " Synset('frump.n.01'),\n",
       " Synset('dog.n.03'),\n",
       " Synset('cad.n.01'),\n",
       " Synset('frank.n.02'),\n",
       " Synset('pawl.n.01'),\n",
       " Synset('andiron.n.01'),\n",
       " Synset('chase.v.01')]"
      ]
     },
     "execution_count": 2,
     "metadata": {},
     "output_type": "execute_result"
    }
   ],
   "source": [
    "wn.synsets('dog')"
   ]
  },
  {
   "cell_type": "code",
   "execution_count": 3,
   "metadata": {
    "collapsed": false
   },
   "outputs": [
    {
     "data": {
      "text/plain": [
       "[Synset('chase.v.01')]"
      ]
     },
     "execution_count": 3,
     "metadata": {},
     "output_type": "execute_result"
    }
   ],
   "source": [
    "# narrow it down to verb\n",
    "wn.synsets('dog', pos=wn.VERB)"
   ]
  },
  {
   "cell_type": "markdown",
   "metadata": {},
   "source": [
    "### synset information\n",
    "\n",
    "We can extract definitions, usage examples, and lemmas from a synset."
   ]
  },
  {
   "cell_type": "code",
   "execution_count": 4,
   "metadata": {
    "collapsed": false
   },
   "outputs": [
    {
     "data": {
      "text/plain": [
       "'a member of the genus Canis (probably descended from the common wolf) that has been domesticated by man since prehistoric times; occurs in many breeds'"
      ]
     },
     "execution_count": 4,
     "metadata": {},
     "output_type": "execute_result"
    }
   ],
   "source": [
    "# get a definition\n",
    "wn.synset('dog.n.01').definition()"
   ]
  },
  {
   "cell_type": "code",
   "execution_count": 5,
   "metadata": {
    "collapsed": false
   },
   "outputs": [
    {
     "data": {
      "text/plain": [
       "['the dog barked all night']"
      ]
     },
     "execution_count": 5,
     "metadata": {},
     "output_type": "execute_result"
    }
   ],
   "source": [
    "# get usage examples\n",
    "wn.synset('dog.n.01').examples()"
   ]
  },
  {
   "cell_type": "code",
   "execution_count": 6,
   "metadata": {
    "collapsed": false
   },
   "outputs": [
    {
     "name": "stdout",
     "output_type": "stream",
     "text": [
      "Sense dog.n.01 lemmas: ['dog', 'domestic_dog', 'Canis_familiaris']\n",
      "Sense frump.n.01 lemmas: ['frump', 'dog']\n",
      "Sense dog.n.03 lemmas: ['dog']\n",
      "Sense cad.n.01 lemmas: ['cad', 'bounder', 'blackguard', 'dog', 'hound', 'heel']\n",
      "Sense frank.n.02 lemmas: ['frank', 'frankfurter', 'hotdog', 'hot_dog', 'dog', 'wiener', 'wienerwurst', 'weenie']\n",
      "Sense pawl.n.01 lemmas: ['pawl', 'detent', 'click', 'dog']\n",
      "Sense andiron.n.01 lemmas: ['andiron', 'firedog', 'dog', 'dog-iron']\n",
      "Sense chase.v.01 lemmas: ['chase', 'chase_after', 'trail', 'tail', 'tag', 'give_chase', 'dog', 'go_after', 'track']\n"
     ]
    }
   ],
   "source": [
    "# get lemmas for each sense in the synsets\n",
    "# a sense in WordNet is one meaning of the word\n",
    "# a lemma in WordNet is one dictionary entry\n",
    "# the lemmas within one synset are synonyms\n",
    "for sense in wn.synsets('dog'):\n",
    "    lemmas = [l.name() for l in sense.lemmas()]\n",
    "    print(\"Sense \" + sense.name() + \" lemmas: \" + str(lemmas))"
   ]
  },
  {
   "cell_type": "code",
   "execution_count": 7,
   "metadata": {
    "collapsed": false
   },
   "outputs": [
    {
     "data": {
      "text/plain": [
       "Synset('dog.n.01')"
      ]
     },
     "execution_count": 7,
     "metadata": {},
     "output_type": "execute_result"
    }
   ],
   "source": [
    "# we can also find the synset of a lemma\n",
    "wn.lemma('dog.n.01.dog').synset()"
   ]
  },
  {
   "cell_type": "markdown",
   "metadata": {},
   "source": [
    "### hierarchy\n",
    "\n",
    "WordNet organizes words in a \"is-a\" hierarchy that can be traversed. "
   ]
  },
  {
   "cell_type": "code",
   "execution_count": 8,
   "metadata": {
    "collapsed": false
   },
   "outputs": [
    {
     "name": "stdout",
     "output_type": "stream",
     "text": [
      "hypernyms:  [Synset('canine.n.02'), Synset('domestic_animal.n.01')]\n",
      "holonyms:  [Synset('canis.n.01'), Synset('pack.n.06')]\n",
      "root hypernyms:  [Synset('entity.n.01')]\n",
      "dog and cat hypernym:  [Synset('carnivore.n.01')]\n"
     ]
    }
   ],
   "source": [
    "dog = wn.synset('dog.n.01')\n",
    "# hypernyms() are superclasses\n",
    "print('hypernyms: ', dog.hypernyms())\n",
    "# hyponyms() are subclasses (more specific)\n",
    "print('holonyms: ', dog.member_holonyms())\n",
    "# find the root hypernym\n",
    "print('root hypernyms: ', dog.root_hypernyms())\n",
    "# find the lowest common hypernym of dog and cat\n",
    "print('dog and cat hypernym: ', dog.lowest_common_hypernyms(wn.synset('cat.n.01')))"
   ]
  },
  {
   "cell_type": "code",
   "execution_count": 9,
   "metadata": {
    "collapsed": false
   },
   "outputs": [
    {
     "name": "stdout",
     "output_type": "stream",
     "text": [
      "Synset('entity.n.01')\n",
      "Synset('physical_entity.n.01')\n",
      "Synset('abstraction.n.06')\n",
      "Synset('thing.n.12')\n",
      "Synset('object.n.01')\n",
      "Synset('whole.n.02')\n",
      "Synset('congener.n.03')\n",
      "Synset('living_thing.n.01')\n",
      "Synset('organism.n.01')\n",
      "Synset('benthos.n.02')\n",
      "Synset('dwarf.n.03')\n"
     ]
    }
   ],
   "source": [
    "# look at all the noun synsets\n",
    "i = 1\n",
    "for synset in list(wn.all_synsets('n')):\n",
    "    print(synset)\n",
    "    # comment out lines below to see all of them instead of 10\n",
    "    if i > 10:\n",
    "        break\n",
    "    i += 1"
   ]
  },
  {
   "cell_type": "code",
   "execution_count": 10,
   "metadata": {
    "collapsed": false
   },
   "outputs": [
    {
     "name": "stdout",
     "output_type": "stream",
     "text": [
      "Synset('canine.n.02')\n",
      "Synset('carnivore.n.01')\n",
      "Synset('placental.n.01')\n",
      "Synset('mammal.n.01')\n",
      "Synset('vertebrate.n.01')\n",
      "Synset('chordate.n.01')\n",
      "Synset('animal.n.01')\n",
      "Synset('organism.n.01')\n",
      "Synset('living_thing.n.01')\n",
      "Synset('whole.n.02')\n",
      "Synset('object.n.01')\n",
      "Synset('physical_entity.n.01')\n",
      "Synset('entity.n.01')\n"
     ]
    }
   ],
   "source": [
    "# walk up the hierarchy for dog\n",
    "hyp = dog.hypernyms()[0]\n",
    "top = wn.synset('entity.n.01')\n",
    "while hyp:\n",
    "    print(hyp)\n",
    "    if hyp == top:\n",
    "        break\n",
    "    if hyp.hypernyms():\n",
    "        hyp = hyp.hypernyms()[0]"
   ]
  },
  {
   "cell_type": "code",
   "execution_count": 11,
   "metadata": {
    "collapsed": false
   },
   "outputs": [
    {
     "data": {
      "text/plain": [
       "[Synset('canine.n.02'),\n",
       " Synset('domestic_animal.n.01'),\n",
       " Synset('carnivore.n.01'),\n",
       " Synset('animal.n.01'),\n",
       " Synset('placental.n.01'),\n",
       " Synset('organism.n.01'),\n",
       " Synset('mammal.n.01'),\n",
       " Synset('living_thing.n.01'),\n",
       " Synset('vertebrate.n.01'),\n",
       " Synset('whole.n.02'),\n",
       " Synset('chordate.n.01'),\n",
       " Synset('object.n.01'),\n",
       " Synset('physical_entity.n.01'),\n",
       " Synset('entity.n.01')]"
      ]
     },
     "execution_count": 11,
     "metadata": {},
     "output_type": "execute_result"
    }
   ],
   "source": [
    "# walk up the hierarchy for dog using a closure\n",
    "hyper = lambda s: s.hypernyms()\n",
    "list(dog.closure(hyper))"
   ]
  },
  {
   "cell_type": "markdown",
   "metadata": {},
   "source": [
    "#### What is a closure?\n",
    "\n",
    "Speaking generally, a closure in Python is a special type of object that combines a function and the environment in which that function was created. This allows a function to retain information that would normally be out of scope.\n",
    "\n",
    "The first line above creates a lambda function, \"hyper\", that returns the hypernym of a synset. The second line calls the method \"closure\" which is defined in nltk. \n"
   ]
  },
  {
   "cell_type": "code",
   "execution_count": 13,
   "metadata": {
    "collapsed": false
   },
   "outputs": [
    {
     "data": {
      "text/plain": [
       "[Synset('feline.n.01'),\n",
       " Synset('carnivore.n.01'),\n",
       " Synset('placental.n.01'),\n",
       " Synset('mammal.n.01'),\n",
       " Synset('vertebrate.n.01'),\n",
       " Synset('chordate.n.01'),\n",
       " Synset('animal.n.01'),\n",
       " Synset('organism.n.01'),\n",
       " Synset('living_thing.n.01'),\n",
       " Synset('whole.n.02'),\n",
       " Synset('object.n.01'),\n",
       " Synset('physical_entity.n.01'),\n",
       " Synset('entity.n.01')]"
      ]
     },
     "execution_count": 13,
     "metadata": {},
     "output_type": "execute_result"
    }
   ],
   "source": [
    "# another closure example\n",
    "cat = wn.synset('cat.n.01')\n",
    "list(cat.closure(lambda s: s.hypernyms()))"
   ]
  },
  {
   "cell_type": "markdown",
   "metadata": {},
   "source": [
    "### similarity\n",
    "\n",
    "Similarity measures range from 0 (no similarity) to 1 (identity)."
   ]
  },
  {
   "cell_type": "code",
   "execution_count": 14,
   "metadata": {
    "collapsed": false
   },
   "outputs": [
    {
     "data": {
      "text/plain": [
       "0.2"
      ]
     },
     "execution_count": 14,
     "metadata": {},
     "output_type": "execute_result"
    }
   ],
   "source": [
    "# similarity of 'dog' and 'cat'\n",
    "dog = wn.synset('dog.n.01')\n",
    "cat = wn.synset('cat.n.01')\n",
    "dog.path_similarity(cat)"
   ]
  },
  {
   "cell_type": "code",
   "execution_count": 15,
   "metadata": {
    "collapsed": false
   },
   "outputs": [
    {
     "data": {
      "text/plain": [
       "0.5"
      ]
     },
     "execution_count": 15,
     "metadata": {},
     "output_type": "execute_result"
    }
   ],
   "source": [
    "# similarity of 'laugh' and 'giggle'\n",
    "laugh = wn.synset('laugh.v.01')\n",
    "giggle = wn.synset('giggle.v.01')\n",
    "laugh.path_similarity(giggle)"
   ]
  },
  {
   "cell_type": "code",
   "execution_count": 16,
   "metadata": {
    "collapsed": false
   },
   "outputs": [
    {
     "data": {
      "text/plain": [
       "0.8571428571428571"
      ]
     },
     "execution_count": 16,
     "metadata": {},
     "output_type": "execute_result"
    }
   ],
   "source": [
    "# another similarity measure is the Wu-Palmer metric \n",
    "#    which is based on the depth of the two sensens in the taxonomy \n",
    "#    and that of their most specific common ancestor node.\n",
    "wn.wup_similarity(dog, cat)"
   ]
  },
  {
   "cell_type": "markdown",
   "metadata": {},
   "source": [
    "### morphology\n",
    "\n",
    "Morphy lets you look up other morphological forms of a word."
   ]
  },
  {
   "cell_type": "code",
   "execution_count": 17,
   "metadata": {
    "collapsed": false
   },
   "outputs": [
    {
     "data": {
      "text/plain": [
       "'laugh'"
      ]
     },
     "execution_count": 17,
     "metadata": {},
     "output_type": "execute_result"
    }
   ],
   "source": [
    "wn.morphy('laughed', wn.VERB)"
   ]
  },
  {
   "cell_type": "code",
   "execution_count": 18,
   "metadata": {
    "collapsed": false
   },
   "outputs": [
    {
     "data": {
      "text/plain": [
       "[Lemma('laugh.n.02.laugh'),\n",
       " Lemma('laugh.n.01.laugh'),\n",
       " Lemma('joke.n.01.laugh'),\n",
       " Lemma('amusing.s.02.laughable'),\n",
       " Lemma('laugher.n.01.laugher')]"
      ]
     },
     "execution_count": 18,
     "metadata": {},
     "output_type": "execute_result"
    }
   ],
   "source": [
    "# find derivations of laugh\n",
    "laugh = wn.lemma('laugh.v.01.laugh')\n",
    "laugh.derivationally_related_forms()"
   ]
  },
  {
   "cell_type": "code",
   "execution_count": 19,
   "metadata": {
    "collapsed": false
   },
   "outputs": [
    {
     "data": {
      "text/plain": [
       "[Lemma('cry.v.02.cry')]"
      ]
     },
     "execution_count": 19,
     "metadata": {},
     "output_type": "execute_result"
    }
   ],
   "source": [
    "laugh.antonyms()"
   ]
  },
  {
   "cell_type": "markdown",
   "metadata": {},
   "source": [
    "### finding lemmas\n",
    "\n",
    "Another way to find lemmas."
   ]
  },
  {
   "cell_type": "code",
   "execution_count": 20,
   "metadata": {
    "collapsed": false
   },
   "outputs": [
    {
     "data": {
      "text/plain": [
       "'better'"
      ]
     },
     "execution_count": 20,
     "metadata": {},
     "output_type": "execute_result"
    }
   ],
   "source": [
    "from nltk.stem import WordNetLemmatizer\n",
    "lemmatizer = WordNetLemmatizer()\n",
    "lemmatizer.lemmatize(\"better\")"
   ]
  },
  {
   "cell_type": "code",
   "execution_count": 21,
   "metadata": {
    "collapsed": false
   },
   "outputs": [
    {
     "data": {
      "text/plain": [
       "'good'"
      ]
     },
     "execution_count": 21,
     "metadata": {},
     "output_type": "execute_result"
    }
   ],
   "source": [
    "# add pos to get better results\n",
    "lemmatizer.lemmatize(\"better\", pos=\"a\")"
   ]
  },
  {
   "cell_type": "markdown",
   "metadata": {},
   "source": [
    "### Lesk algorithm\n",
    "\n",
    "NLTK also has an implementation of the Lesk algorithm for WSD. The function returns the synset with the highest number of overlapping words between the context sentence and the definitions in each synset for the target word. You can provide a pos argument as well as the target word."
   ]
  },
  {
   "cell_type": "code",
   "execution_count": 22,
   "metadata": {
    "collapsed": false
   },
   "outputs": [],
   "source": [
    "from nltk.wsd import lesk"
   ]
  },
  {
   "cell_type": "code",
   "execution_count": 23,
   "metadata": {
    "collapsed": false
   },
   "outputs": [
    {
     "name": "stdout",
     "output_type": "stream",
     "text": [
      "Synset('bank.n.01') sloping land (especially the slope beside a body of water)\n",
      "Synset('depository_financial_institution.n.01') a financial institution that accepts deposits and channels the money into lending activities\n",
      "Synset('bank.n.03') a long ridge or pile\n",
      "Synset('bank.n.04') an arrangement of similar objects in a row or in tiers\n",
      "Synset('bank.n.05') a supply or stock held in reserve for future use (especially in emergencies)\n",
      "Synset('bank.n.06') the funds held by a gambling house or the dealer in some gambling games\n",
      "Synset('bank.n.07') a slope in the turn of a road or track; the outside is higher than the inside in order to reduce the effects of centrifugal force\n",
      "Synset('savings_bank.n.02') a container (usually with a slot in the top) for keeping money at home\n",
      "Synset('bank.n.09') a building in which the business of banking transacted\n",
      "Synset('bank.n.10') a flight maneuver; aircraft tips laterally about its longitudinal axis (especially in turning)\n",
      "Synset('bank.v.01') tip laterally\n",
      "Synset('bank.v.02') enclose with a bank\n",
      "Synset('bank.v.03') do business with a bank or keep an account at a bank\n",
      "Synset('bank.v.04') act as the banker in a game or in gambling\n",
      "Synset('bank.v.05') be in the banking business\n",
      "Synset('deposit.v.02') put into a bank account\n",
      "Synset('bank.v.07') cover with ashes so to control the rate of burning\n",
      "Synset('trust.v.01') have confidence or faith in\n"
     ]
    }
   ],
   "source": [
    "# look at the definitions for 'bank'\n",
    "for ss in wn.synsets('bank'):\n",
    "    print(ss, ss.definition())"
   ]
  },
  {
   "cell_type": "code",
   "execution_count": 24,
   "metadata": {
    "collapsed": false
   },
   "outputs": [
    {
     "name": "stdout",
     "output_type": "stream",
     "text": [
      "Synset('savings_bank.n.02')\n",
      "a container (usually with a slot in the top) for keeping money at home\n"
     ]
    }
   ],
   "source": [
    "sent1 = 'I went to the bank to desposit money'.split()\n",
    "s = lesk(sent1, 'bank', 'n')\n",
    "print(s)\n",
    "print(s.definition())"
   ]
  },
  {
   "cell_type": "code",
   "execution_count": 25,
   "metadata": {
    "collapsed": false
   },
   "outputs": [
    {
     "name": "stdout",
     "output_type": "stream",
     "text": [
      "Synset('bank.n.07')\n",
      "a slope in the turn of a road or track; the outside is higher than the inside in order to reduce the effects of centrifugal force\n"
     ]
    }
   ],
   "source": [
    "sent2 = 'I went to the river bank to see the flood'.split()\n",
    "s = lesk(sent2, 'bank', 'n')\n",
    "print(s)\n",
    "print(s.definition())"
   ]
  },
  {
   "cell_type": "code",
   "execution_count": 26,
   "metadata": {
    "collapsed": false
   },
   "outputs": [
    {
     "name": "stdout",
     "output_type": "stream",
     "text": [
      "Synset('able.a.01') (usually followed by `to') having the necessary means or skill or know-how or authority to do something\n",
      "Synset('able.s.02') have the skills and qualifications to do things well\n",
      "Synset('able.s.03') having inherent physical or mental ability or capacity\n",
      "Synset('able.s.04') having a strong healthy body\n"
     ]
    }
   ],
   "source": [
    "# senses of 'able'\n",
    "for ss in wn.synsets('able'):\n",
    "    print(ss, ss.definition())"
   ]
  },
  {
   "cell_type": "code",
   "execution_count": 27,
   "metadata": {
    "collapsed": false
   },
   "outputs": [
    {
     "name": "stdout",
     "output_type": "stream",
     "text": [
      "Synset('able.s.02')\n"
     ]
    }
   ],
   "source": [
    "sent3 = 'People should be able to think independently'.split()\n",
    "print(lesk(sent3, 'able'))"
   ]
  },
  {
   "cell_type": "code",
   "execution_count": 28,
   "metadata": {
    "collapsed": false
   },
   "outputs": [
    {
     "name": "stdout",
     "output_type": "stream",
     "text": [
      "Synset('able.a.01')\n"
     ]
    }
   ],
   "source": [
    "# now try with a specific pos\n",
    "print(lesk(sent2, 'able', pos='a'))"
   ]
  },
  {
   "cell_type": "code",
   "execution_count": null,
   "metadata": {
    "collapsed": true
   },
   "outputs": [],
   "source": []
  }
 ],
 "metadata": {
  "kernelspec": {
   "display_name": "Python 3",
   "language": "python",
   "name": "python3"
  },
  "language_info": {
   "codemirror_mode": {
    "name": "ipython",
    "version": 3
   },
   "file_extension": ".py",
   "mimetype": "text/x-python",
   "name": "python",
   "nbconvert_exporter": "python",
   "pygments_lexer": "ipython3",
   "version": "3.5.0"
  }
 },
 "nbformat": 4,
 "nbformat_minor": 2
}
