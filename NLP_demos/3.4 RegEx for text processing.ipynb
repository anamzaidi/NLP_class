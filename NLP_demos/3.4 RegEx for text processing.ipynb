{
 "cells": [
  {
   "cell_type": "markdown",
   "metadata": {},
   "source": [
    "# RegEx for text processing\n",
    "\n",
    "The many built-in string functions work fine for most text processing tasks. However, sometimes you will encounter a situation where you need the power of regular expressions.\n",
    "\n",
    "In the code below we make a new list using a list comprehension by only selecting items from a starter list that contain the pattern 'ain'."
   ]
  },
  {
   "cell_type": "code",
   "execution_count": 2,
   "metadata": {
    "collapsed": false
   },
   "outputs": [
    {
     "data": {
      "text/plain": [
       "['contain', 'restrain', 'complaining']"
      ]
     },
     "execution_count": 2,
     "metadata": {},
     "output_type": "execute_result"
    }
   ],
   "source": [
    "import re\n",
    "word_list = ['contain', 'restrain', 'complaining', 'nothing']\n",
    "[w for w in word_list if re.search('ain', w)]"
   ]
  },
  {
   "cell_type": "markdown",
   "metadata": {},
   "source": [
    "There are some important special characers in regular expressions:\n",
    "* $ end of string\n",
    "* ^ start of string\n",
    "* . matches any character\n",
    "* ? means that the previous character is optional\n",
    "* * is repeat\n",
    "* + is one or more"
   ]
  },
  {
   "cell_type": "code",
   "execution_count": 14,
   "metadata": {
    "collapsed": false
   },
   "outputs": [
    {
     "data": {
      "text/plain": [
       "['contain', 'restrain']"
      ]
     },
     "execution_count": 14,
     "metadata": {},
     "output_type": "execute_result"
    }
   ],
   "source": [
    "# $ example\n",
    "[w for w in word_list if re.search('ain$', w)]\n"
   ]
  },
  {
   "cell_type": "code",
   "execution_count": 15,
   "metadata": {
    "collapsed": false
   },
   "outputs": [
    {
     "data": {
      "text/plain": [
       "['contain', 'complaining']"
      ]
     },
     "execution_count": 15,
     "metadata": {},
     "output_type": "execute_result"
    }
   ],
   "source": [
    "# ^ example\n",
    "[w for w in word_list if re.search('^co', w)]"
   ]
  },
  {
   "cell_type": "code",
   "execution_count": 16,
   "metadata": {
    "collapsed": false
   },
   "outputs": [
    {
     "data": {
      "text/plain": [
       "['contain', 'restrain']"
      ]
     },
     "execution_count": 16,
     "metadata": {},
     "output_type": "execute_result"
    }
   ],
   "source": [
    "# ? example\n",
    "[w for w in word_list if re.search('tr?ain', w)]"
   ]
  },
  {
   "cell_type": "code",
   "execution_count": 17,
   "metadata": {
    "collapsed": false
   },
   "outputs": [
    {
     "data": {
      "text/plain": [
       "['contain', 'complaining']"
      ]
     },
     "execution_count": 17,
     "metadata": {},
     "output_type": "execute_result"
    }
   ],
   "source": [
    "# . and * example\n",
    "[w for w in word_list if re.search('co.*ain', w)]"
   ]
  },
  {
   "cell_type": "code",
   "execution_count": 18,
   "metadata": {
    "collapsed": false
   },
   "outputs": [
    {
     "data": {
      "text/plain": [
       "['contain', 'restrain', 'complaining', 'nothing']"
      ]
     },
     "execution_count": 18,
     "metadata": {},
     "output_type": "execute_result"
    }
   ],
   "source": [
    "# + example\n",
    "[w for w in word_list if re.search('in+', w)]"
   ]
  },
  {
   "cell_type": "markdown",
   "metadata": {},
   "source": [
    "### brackets []\n",
    "\n",
    "Brackets are a way to group parts of a pattern. The following looks for a pattern that starts at the beginning of a string, contains exactly 3 digits, followed by a dash. "
   ]
  },
  {
   "cell_type": "code",
   "execution_count": 21,
   "metadata": {
    "collapsed": false
   },
   "outputs": [
    {
     "data": {
      "text/plain": [
       "<_sre.SRE_Match object; span=(0, 4), match='123-'>"
      ]
     },
     "execution_count": 21,
     "metadata": {},
     "output_type": "execute_result"
    }
   ],
   "source": [
    "str1 = '123-45-6789'\n",
    "patt = '^[0-9]{3}-'\n",
    "re.search(patt, str1)"
   ]
  },
  {
   "cell_type": "code",
   "execution_count": 4,
   "metadata": {
    "collapsed": false
   },
   "outputs": [],
   "source": [
    "# ^ has a different meaning inside [], it means NOT\n",
    "str1 = '123-45-6789'\n",
    "patt = '^[^0-9]{3}-'  # first ^ means start, next one means NOT\n",
    "re.search(patt, str1)"
   ]
  },
  {
   "cell_type": "markdown",
   "metadata": {
    "collapsed": true
   },
   "source": [
    "### More\n",
    "\n",
    "There is much more to RegEx than we covered here. Chapter 3 of the NLTK book also gives examples using the re.finall() method that can find all non-overlapping matches of a pattern. There are many tutorials you can find on the web. It is also handy to have cheat sheets [like this one](http://docs.cs-cart.com/4.3.x/_downloads/regular-expressions-cheat-sheet-v1.pdf)."
   ]
  },
  {
   "cell_type": "markdown",
   "metadata": {},
   "source": [
    "# Practice\n",
    "\n",
    "Look at Table 3.3 on [this page](http://www.nltk.org/book/ch03.html). Make up an example with at least 5 of the Meta-Characters and share with the class. \n",
    "    "
   ]
  },
  {
   "cell_type": "code",
   "execution_count": null,
   "metadata": {
    "collapsed": true
   },
   "outputs": [],
   "source": []
  }
 ],
 "metadata": {
  "kernelspec": {
   "display_name": "Python 3",
   "language": "python",
   "name": "python3"
  },
  "language_info": {
   "codemirror_mode": {
    "name": "ipython",
    "version": 3
   },
   "file_extension": ".py",
   "mimetype": "text/x-python",
   "name": "python",
   "nbconvert_exporter": "python",
   "pygments_lexer": "ipython3",
   "version": "3.5.0"
  }
 },
 "nbformat": 4,
 "nbformat_minor": 0
}
