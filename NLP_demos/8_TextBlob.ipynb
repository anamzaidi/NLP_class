{
 "cells": [
  {
   "cell_type": "markdown",
   "metadata": {},
   "source": [
    "# TextBlob\n",
    "\n",
    "TextBlob is a Python library for processing text. It has some of the same functionality as NLTK but with a nice API, and some functions run faster than NLTK. Read [more here](https://textblob.readthedocs.io/en/dev/)\n",
    "\n",
    "Install:\n",
    "$pip install -U textblob\n",
    "\n",
    "Corpora for some features:\n",
    "$python -m textblob.download_corpora\n",
    "\n",
    "As usual, first we import it."
   ]
  },
  {
   "cell_type": "code",
   "execution_count": 1,
   "metadata": {
    "collapsed": true
   },
   "outputs": [],
   "source": [
    "from textblob import TextBlob"
   ]
  },
  {
   "cell_type": "code",
   "execution_count": 2,
   "metadata": {
    "collapsed": true
   },
   "outputs": [],
   "source": [
    "# start with raw text from the TextBlob page\n",
    "raw_text = \"\"\"TextBlob is a Python (2 and 3) library for processing textual data. It provides a consistent API \\\n",
    "for diving into common natural language processing (NLP) tasks such as part-of-speech tagging, noun phrase extraction, \\\n",
    "sentiment analysis, and more.\n",
    "\"\"\""
   ]
  },
  {
   "cell_type": "code",
   "execution_count": 3,
   "metadata": {
    "collapsed": false
   },
   "outputs": [
    {
     "data": {
      "text/plain": [
       "[('TextBlob', 'NNP'),\n",
       " ('is', 'VBZ'),\n",
       " ('a', 'DT'),\n",
       " ('Python', 'NNP'),\n",
       " ('2', 'CD')]"
      ]
     },
     "execution_count": 3,
     "metadata": {},
     "output_type": "execute_result"
    }
   ],
   "source": [
    "# make a TextBlob object - this annotates the text\n",
    "blob = TextBlob(raw_text)\n",
    "# see the first few pos tags\n",
    "blob.tags[:5]"
   ]
  },
  {
   "cell_type": "code",
   "execution_count": 4,
   "metadata": {
    "collapsed": false
   },
   "outputs": [
    {
     "data": {
      "text/plain": [
       "WordList(['TextBlob', 'is', 'a', 'Python', '2', 'and', '3', 'library', 'for', 'processing', 'textual', 'data', 'It', 'provides', 'a', 'consistent', 'API', 'for', 'diving', 'into', 'common', 'natural', 'language', 'processing', 'NLP', 'tasks', 'such', 'as', 'part-of-speech', 'tagging', 'noun', 'phrase', 'extraction', 'sentiment', 'analysis', 'and', 'more'])"
      ]
     },
     "execution_count": 4,
     "metadata": {},
     "output_type": "execute_result"
    }
   ],
   "source": [
    "# extract the words\n",
    "blob.words"
   ]
  },
  {
   "cell_type": "code",
   "execution_count": 5,
   "metadata": {
    "collapsed": false
   },
   "outputs": [
    {
     "name": "stdout",
     "output_type": "stream",
     "text": [
      "lemma of alumni is: alumnus\n",
      "singular of alumni is: alumni\n",
      "plural of alumni is: alumnis\n"
     ]
    }
   ],
   "source": [
    "# singularize\n",
    "from textblob import Word\n",
    "w = Word('alumni')\n",
    "print(\"lemma of alumni is:\", w.lemmatize())\n",
    "print(\"singular of alumni is:\", w.singularize())\n",
    "print(\"plural of alumni is:\", w.pluralize())\n"
   ]
  },
  {
   "cell_type": "code",
   "execution_count": 6,
   "metadata": {
    "collapsed": false
   },
   "outputs": [
    {
     "data": {
      "text/plain": [
       "WordList(['textblob', 'python', 'processing textual data', 'api', 'common natural language processing', 'nlp', 'noun phrase extraction', 'sentiment analysis'])"
      ]
     },
     "execution_count": 6,
     "metadata": {},
     "output_type": "execute_result"
    }
   ],
   "source": [
    "# extract noun phrases\n",
    "blob.noun_phrases\n",
    "# a noun phrase can  be a noun by itself or a noun and its dependents, like adjectives, determiners, prep phrases"
   ]
  },
  {
   "cell_type": "code",
   "execution_count": 7,
   "metadata": {
    "collapsed": false
   },
   "outputs": [
    {
     "name": "stdout",
     "output_type": "stream",
     "text": [
      "TextBlob is a Python (2 and 3) library for processing textual data.\n",
      "It provides a consistent API for diving into common natural language processing (NLP) tasks such as part-of-speech tagging, noun phrase extraction, sentiment analysis, and more.\n"
     ]
    }
   ],
   "source": [
    "# extract sentences \n",
    "for sentence in blob.sentences:\n",
    "    print(sentence)"
   ]
  },
  {
   "cell_type": "code",
   "execution_count": 8,
   "metadata": {
    "collapsed": false
   },
   "outputs": [
    {
     "name": "stdout",
     "output_type": "stream",
     "text": [
      "0.0\n",
      "0.11000000000000001\n"
     ]
    }
   ],
   "source": [
    "# sentiment analysis\n",
    "for sentence in blob.sentences:\n",
    "    print(sentence.sentiment.polarity)"
   ]
  },
  {
   "cell_type": "code",
   "execution_count": 11,
   "metadata": {
    "collapsed": false
   },
   "outputs": [],
   "source": [
    "# let's try translation\n",
    "#TextBlob.detect_language(blob)\n",
    "#blob.translate(to='es')\n",
    "\n",
    "# NOTE that this feature is currently not working, check back soon"
   ]
  },
  {
   "cell_type": "code",
   "execution_count": 12,
   "metadata": {
    "collapsed": false
   },
   "outputs": [
    {
     "data": {
      "text/plain": [
       "TextBlob(\"I can't spell\")"
      ]
     },
     "execution_count": 12,
     "metadata": {},
     "output_type": "execute_result"
    }
   ],
   "source": [
    "# spelling correction\n",
    "b = TextBlob(\"I can't spelll\")\n",
    "b.correct()"
   ]
  },
  {
   "cell_type": "code",
   "execution_count": 13,
   "metadata": {
    "collapsed": false
   },
   "outputs": [
    {
     "name": "stdout",
     "output_type": "stream",
     "text": [
      "TextBlob/NN/B-NP/O is/VBZ/B-VP/O a/DT/B-NP/O Python/NNP/I-NP/O (/(/O/O 2/IN/B-PP/O and/CC/O/O 3/CD/O/O )/)/O/O library/NN/B-NP/O for/IN/B-PP/B-PNP processing/NN/B-NP/I-PNP textual/JJ/I-NP/I-PNP data/NNS/I-NP/I-PNP ././O/O\n",
      "It/PRP/B-NP/O provides/VBZ/B-VP/O a/DT/B-NP/O consistent/JJ/I-NP/O API/NNP/I-NP/O for/IN/B-PP/B-PNP diving/VBG/B-VP/I-PNP into/IN/B-PP/B-PNP common/JJ/B-NP/I-PNP natural/JJ/I-NP/I-PNP language/NN/I-NP/I-PNP processing/NN/I-NP/I-PNP (/(/O/O NLP/NN/B-NP/O )/)/O/O tasks/NNS/B-NP/O such/JJ/B-ADJP/O as/IN/B-PP/O part-of-speech/JJ/B-ADJP/O tagging/VBG/B-VP/O ,/,/O/O noun/NN/B-NP/O phrase/NN/I-NP/O extraction/NN/I-NP/O ,/,/O/O sentiment/NN/B-NP/O analysis/NN/I-NP/O ,/,/O/O and/CC/O/O more/JJR/B-ADJP/O ././O/O\n"
     ]
    }
   ],
   "source": [
    "# parsing\n",
    "for sentence in blob.sentences:\n",
    "    print(sentence.parse())"
   ]
  },
  {
   "cell_type": "code",
   "execution_count": 14,
   "metadata": {
    "collapsed": false
   },
   "outputs": [
    {
     "data": {
      "text/plain": [
       "[WordList(['TextBlob', 'is']),\n",
       " WordList(['is', 'a']),\n",
       " WordList(['a', 'Python']),\n",
       " WordList(['Python', '2']),\n",
       " WordList(['2', 'and'])]"
      ]
     },
     "execution_count": 14,
     "metadata": {},
     "output_type": "execute_result"
    }
   ],
   "source": [
    "# ngrams\n",
    "blob.ngrams(n=2)[:5]"
   ]
  },
  {
   "cell_type": "markdown",
   "metadata": {},
   "source": [
    "TextBlob objects are like Python strings in that you can apply Python methods to them."
   ]
  },
  {
   "cell_type": "code",
   "execution_count": 15,
   "metadata": {
    "collapsed": false
   },
   "outputs": [
    {
     "data": {
      "text/plain": [
       "TextBlob(\"TEXTBLOB IS A PYTHON (2 AND 3) LIBRARY FOR PROCESSING TEXTUAL DATA. IT PROVIDES A CONSISTENT API FOR DIVING INTO COMMON NATURAL LANGUAGE PROCESSING (NLP) TASKS SUCH AS PART-OF-SPEECH TAGGING, NOUN PHRASE EXTRACTION, SENTIMENT ANALYSIS, AND MORE.\n",
       "\")"
      ]
     },
     "execution_count": 15,
     "metadata": {},
     "output_type": "execute_result"
    }
   ],
   "source": [
    "blob.upper()"
   ]
  },
  {
   "cell_type": "code",
   "execution_count": 16,
   "metadata": {
    "collapsed": false
   },
   "outputs": [
    {
     "data": {
      "text/plain": [
       "2"
      ]
     },
     "execution_count": 16,
     "metadata": {},
     "output_type": "execute_result"
    }
   ],
   "source": [
    "blob.words.count('a', case_sensitive=False)"
   ]
  },
  {
   "cell_type": "markdown",
   "metadata": {},
   "source": [
    "TextBlob also handles WordNet, with similar syntax to NLTK, but runs a little faster."
   ]
  },
  {
   "cell_type": "code",
   "execution_count": 17,
   "metadata": {
    "collapsed": false
   },
   "outputs": [
    {
     "data": {
      "text/plain": [
       "0.3333333333333333"
      ]
     },
     "execution_count": 17,
     "metadata": {},
     "output_type": "execute_result"
    }
   ],
   "source": [
    "from textblob.wordnet import Synset\n",
    "pear = Synset(\"pear.n.01\")\n",
    "apple = Synset(\"apple.n.01\")\n",
    "pear.path_similarity(apple)"
   ]
  },
  {
   "cell_type": "markdown",
   "metadata": {},
   "source": [
    "The TextBlob site has a lot of tutorials, including:\n",
    "\n",
    "- [finding tf-idf](https://stevenloria.com/tf-idf/)\n",
    "- [text classification](https://stevenloria.com/simple-text-classification/)\n",
    "\n",
    "Steven Loria, the creator, adds features and tutorials frequently, so check the site often."
   ]
  },
  {
   "cell_type": "code",
   "execution_count": null,
   "metadata": {
    "collapsed": true
   },
   "outputs": [],
   "source": []
  }
 ],
 "metadata": {
  "kernelspec": {
   "display_name": "Python 3",
   "language": "python",
   "name": "python3"
  },
  "language_info": {
   "codemirror_mode": {
    "name": "ipython",
    "version": 3
   },
   "file_extension": ".py",
   "mimetype": "text/x-python",
   "name": "python",
   "nbconvert_exporter": "python",
   "pygments_lexer": "ipython3",
   "version": "3.5.0"
  }
 },
 "nbformat": 4,
 "nbformat_minor": 2
}
