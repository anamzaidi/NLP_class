{
 "cells": [
  {
   "cell_type": "markdown",
   "metadata": {},
   "source": [
    "# Getting started with Python 3\n",
    "\n",
    "This overview of Python 3 assumes no prior knowledge of Python, just prior programming experience in some language. We are just scratching the surface of Python in this series of notebooks, covering just enough Python to enable you to do assignments and projects. There are so many free resources for learning more about Python, including https://docs.python.org/3/tutorial/ but of course the best way to learn is to dive in!"
   ]
  },
  {
   "cell_type": "markdown",
   "metadata": {},
   "source": [
    "## Things to know about Python\n",
    "\n",
    "* an interpreted language\n",
    "* source code is compiled into bytecode to be executed by the os\n",
    "* there are no type declarations like **int j;**\n",
    "* types are checked dynamically at run time not when code is compiled\n",
    "* uses indents not { } to identify code blocks\n",
    "* end of line is end of statement, no ; required\n",
    "* tab/space wars: 4 spaces (but PyCharm IDE fixes tabs for you)\n",
    "* underscore/camelCase wars: underscore preferred for variable names\n",
    "* case sensitive\n",
    "* comments begin with # \n",
    "* significant changes from Versions 2-> 3 broke backward compatability\n",
    "\n",
    "Regarding style, refer to [PEP8](https://www.python.org/dev/peps/pep-0008/) as the ultimate authority.\n",
    "\n",
    "One of the best ways to learn about Python is to play with it at the console.\n",
    "Type this at the console and follow along with this notebook:\n",
    "\n",
    "$python\n",
    "\n",
    "\n",
    "### Variables\n",
    "\n",
    "Think of Python variables as pointers to memory locations. The type of the variable is determined by its contents. Assign it to different contents, and it's a different type of variable, pointing to a different memory location. \n",
    "\n",
    "When you type a variable at the console, Python returns its value. We can also use the print() function to view the contents. \n"
   ]
  },
  {
   "cell_type": "code",
   "execution_count": null,
   "metadata": {
    "collapsed": false
   },
   "outputs": [],
   "source": [
    "v = 5      # v is an int\n",
    "print(v)\n",
    "v = 'a'    # now v is a string of length 1 (there is no char)\n",
    "print(v)\n"
   ]
  },
  {
   "cell_type": "markdown",
   "metadata": {},
   "source": [
    "What can you do with ints and strings? We'll talk a lot about strings later."
   ]
  },
  {
   "cell_type": "code",
   "execution_count": null,
   "metadata": {
    "collapsed": false
   },
   "outputs": [],
   "source": [
    "v = 5\n",
    "v += 1   # Python doesn't have the ++ or -- operators\n",
    "v"
   ]
  },
  {
   "cell_type": "code",
   "execution_count": null,
   "metadata": {
    "collapsed": false
   },
   "outputs": [],
   "source": [
    "v = 'a'\n",
    "v += 'b'   # + used for concatenation\n",
    "v"
   ]
  },
  {
   "cell_type": "markdown",
   "metadata": {},
   "source": [
    "Don't be afraid to break stuff."
   ]
  },
  {
   "cell_type": "code",
   "execution_count": null,
   "metadata": {
    "collapsed": false
   },
   "outputs": [],
   "source": [
    "v += 1  # oops"
   ]
  },
  {
   "cell_type": "markdown",
   "metadata": {},
   "source": [
    "To reinforce the idea that variables just point to locations, observe this:"
   ]
  },
  {
   "cell_type": "code",
   "execution_count": null,
   "metadata": {
    "collapsed": false
   },
   "outputs": [],
   "source": [
    "a = 5\n",
    "b = 5\n",
    "print(hex(id(a)), hex(id(b)))  # a and b point to same location\n",
    "a += 1\n",
    "print(hex(id(a)), hex(id(b)))  # now they don't"
   ]
  },
  {
   "cell_type": "markdown",
   "metadata": {},
   "source": [
    "### Types\n",
    "\n",
    "Common data types include:\n",
    "* int (non-limited length)\n",
    "* float (same as a C double)\n",
    "* complex\n",
    "* boolean (built-in values are True, False)\n",
    "* string ('single' or \"double\" quotes)"
   ]
  },
  {
   "cell_type": "markdown",
   "metadata": {
    "collapsed": true
   },
   "source": [
    "## Console input and output\n",
    "\n",
    "* print() for console output\n",
    "* input(\"prompt\") for console input"
   ]
  },
  {
   "cell_type": "code",
   "execution_count": 1,
   "metadata": {
    "collapsed": false
   },
   "outputs": [
    {
     "name": "stdout",
     "output_type": "stream",
     "text": [
      "What's your name? Karen\n",
      "Hello  Karen !\n"
     ]
    }
   ],
   "source": [
    "name = input(\"What's your name? \")\n",
    "print('Hello ', name, '!')  # notice that , list adds spaces"
   ]
  },
  {
   "cell_type": "markdown",
   "metadata": {
    "collapsed": true
   },
   "source": [
    "#### Practice\n",
    "\n",
    "Write some code to input a circle radius from the user, then calculate and display the area. Hints:\n",
    "* the Python exponent operator is **\n",
    "* convert a string to a number with int() or float()"
   ]
  },
  {
   "cell_type": "code",
   "execution_count": null,
   "metadata": {
    "collapsed": true
   },
   "outputs": [],
   "source": [
    "# your code here"
   ]
  },
  {
   "cell_type": "markdown",
   "metadata": {
    "collapsed": true
   },
   "source": [
    "### Python programs\n",
    "\n",
    "ok, we need more than the console, we need to write programs, often called scripts.\n",
    "\n",
    "A python program is a text file that ends in .py\n",
    "\n",
    "You can run it at the console like this:\n",
    "\n",
    "$python myfile.py\n",
    "\n",
    "Of course, the command line is highly system-dependent. \n",
    "\n",
    "So technically, all you need is a simple text editor, but using an IDE like PyCharm will make coding easier."
   ]
  },
  {
   "cell_type": "markdown",
   "metadata": {
    "collapsed": true
   },
   "source": [
    "#### Practice\n",
    "\n",
    "Write the code you used before for the area of a circle in a .py file and run it at the console."
   ]
  },
  {
   "cell_type": "markdown",
   "metadata": {
    "collapsed": true
   },
   "source": [
    "In *nix systems it is customary to start the script with a shebang:"
   ]
  },
  {
   "cell_type": "code",
   "execution_count": null,
   "metadata": {
    "collapsed": false
   },
   "outputs": [],
   "source": [
    "#!/usr/bin/env python\n",
    "\n",
    "import sys\n",
    "\n",
    "def main():\n",
    "    print(\"Hello \" + sys.argv[1])\n",
    "    \n",
    "if __name__ == '__main__':\n",
    "    main()"
   ]
  },
  {
   "cell_type": "markdown",
   "metadata": {
    "collapsed": true
   },
   "source": [
    "The above shows the skeleton on a Python script in *nix but many features are common across platforms:\n",
    "\n",
    "* a main() function called at the bottom of the script\n",
    "* we will learn more about functions later\n",
    "* command line argument 1, example: $python hello.py anArg"
   ]
  },
  {
   "cell_type": "markdown",
   "metadata": {},
   "source": [
    "Soon we will look more and strings and text processing. Read and follow the instructions at www.nltk.org/book/ch01.html to make sure you have nltk installed and everything used in the nltk book. "
   ]
  },
  {
   "cell_type": "code",
   "execution_count": null,
   "metadata": {
    "collapsed": true
   },
   "outputs": [],
   "source": []
  }
 ],
 "metadata": {
  "kernelspec": {
   "display_name": "Python 3",
   "language": "python",
   "name": "python3"
  },
  "language_info": {
   "codemirror_mode": {
    "name": "ipython",
    "version": 3
   },
   "file_extension": ".py",
   "mimetype": "text/x-python",
   "name": "python",
   "nbconvert_exporter": "python",
   "pygments_lexer": "ipython3",
   "version": "3.5.0"
  }
 },
 "nbformat": 4,
 "nbformat_minor": 2
}
