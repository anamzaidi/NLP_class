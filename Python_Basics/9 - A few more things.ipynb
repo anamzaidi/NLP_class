{
 "cells": [
  {
   "cell_type": "markdown",
   "metadata": {},
   "source": [
    "# Exceptions\n",
    "\n",
    "Exceptions are errors that occur during runtime. Python will print out the type of Exception and other information as shown below:"
   ]
  },
  {
   "cell_type": "code",
   "execution_count": 1,
   "metadata": {
    "collapsed": false
   },
   "outputs": [
    {
     "ename": "ZeroDivisionError",
     "evalue": "division by zero",
     "output_type": "error",
     "traceback": [
      "\u001b[0;31m---------------------------------------------------------------------------\u001b[0m",
      "\u001b[0;31mZeroDivisionError\u001b[0m                         Traceback (most recent call last)",
      "\u001b[0;32m<ipython-input-1-089a3c5dfcd5>\u001b[0m in \u001b[0;36m<module>\u001b[0;34m()\u001b[0m\n\u001b[1;32m      1\u001b[0m \u001b[0mx\u001b[0m \u001b[0;34m=\u001b[0m \u001b[0;36m5\u001b[0m\u001b[0;34m\u001b[0m\u001b[0m\n\u001b[1;32m      2\u001b[0m \u001b[0my\u001b[0m \u001b[0;34m=\u001b[0m \u001b[0;36m0\u001b[0m\u001b[0;34m\u001b[0m\u001b[0m\n\u001b[0;32m----> 3\u001b[0;31m \u001b[0mz\u001b[0m \u001b[0;34m=\u001b[0m \u001b[0mx\u001b[0m \u001b[0;34m/\u001b[0m \u001b[0my\u001b[0m\u001b[0;34m\u001b[0m\u001b[0m\n\u001b[0m",
      "\u001b[0;31mZeroDivisionError\u001b[0m: division by zero"
     ]
    }
   ],
   "source": [
    "x = 5\n",
    "y = 0\n",
    "z = x / y"
   ]
  },
  {
   "cell_type": "markdown",
   "metadata": {},
   "source": [
    "We can write defensive code to catch exceptions with try/except blocks as shown below."
   ]
  },
  {
   "cell_type": "code",
   "execution_count": 2,
   "metadata": {
    "collapsed": false
   },
   "outputs": [
    {
     "name": "stdout",
     "output_type": "stream",
     "text": [
      "Error: Attempting to divide by zero\n"
     ]
    }
   ],
   "source": [
    "try:\n",
    "    z = x / y\n",
    "except ZeroDivisionError:\n",
    "    print(\"Error: Attempting to divide by zero\")\n",
    "except:\n",
    "    print(\"Unexpected error\")"
   ]
  },
  {
   "cell_type": "markdown",
   "metadata": {},
   "source": [
    "The try/except blocks can also include else and finally clauses. See [the docs](https://docs.python.org/3/tutorial/errors.html) for a lengthy explanation.\n",
    "\n",
    "Professional quality code would of course include such exception handling but when you are quickly developing an idea that you know will go through many cycles of rewrites then minimizing these try/except blocks makes the code easier to read and update. "
   ]
  },
  {
   "cell_type": "markdown",
   "metadata": {},
   "source": [
    "# Regular expressions\n",
    "\n",
    "Python has a regular expression module, re, that can help you match patterns in text. This is another lengthy topic that you can research in [the docs](https://docs.python.org/3/howto/regex.html). For our purposes, you should be aware of this powerful tool should the need arise to use it.\n",
    "\n",
    "You must import the re module first.\n",
    "\n",
    "The first example demonstrates the re.sub method which has the form:\n",
    "re.sub(pattern, replace, string, max=0)"
   ]
  },
  {
   "cell_type": "code",
   "execution_count": 3,
   "metadata": {
    "collapsed": false
   },
   "outputs": [
    {
     "name": "stdout",
     "output_type": "stream",
     "text": [
      "5554441234\n"
     ]
    }
   ],
   "source": [
    "import re\n",
    "\n",
    "text = '555-444-1234'\n",
    "numbers = re.sub(r'\\D', '', text)\n",
    "print(numbers)"
   ]
  },
  {
   "cell_type": "markdown",
   "metadata": {},
   "source": [
    "The following trivial example shows the difference between re.match which looks at the beginning of the string, and re.search which looks anywhere in the string."
   ]
  },
  {
   "cell_type": "code",
   "execution_count": 4,
   "metadata": {
    "collapsed": false
   },
   "outputs": [
    {
     "name": "stdout",
     "output_type": "stream",
     "text": [
      "didn't find a dog\n",
      "dog\n"
     ]
    }
   ],
   "source": [
    "text = 'My dog is cuter than your dog.'\n",
    "m = re.match(r'dog', text)\n",
    "if m:\n",
    "    print(m.group())\n",
    "else:\n",
    "    print(\"didn't find a dog\")\n",
    "    \n",
    "m = re.search(r'dog', text)\n",
    "if m:\n",
    "    print(m.group())\n",
    "else:\n",
    "    print(\"didn't find a dog\")"
   ]
  },
  {
   "cell_type": "markdown",
   "metadata": {},
   "source": [
    "Regex are very powerful but take quite a bit of practice to get used to. Here are a couple of resources that should prove helpful if you need to write a regex:\n",
    "\n",
    "[Regex cheat sheet](https://pycon2016.regex.training/cheat-sheet)\n",
    "\n",
    "[Regex checker](http://www.pyregex.com)"
   ]
  },
  {
   "cell_type": "code",
   "execution_count": null,
   "metadata": {
    "collapsed": true
   },
   "outputs": [],
   "source": []
  }
 ],
 "metadata": {
  "kernelspec": {
   "display_name": "Python 3",
   "language": "python",
   "name": "python3"
  },
  "language_info": {
   "codemirror_mode": {
    "name": "ipython",
    "version": 3
   },
   "file_extension": ".py",
   "mimetype": "text/x-python",
   "name": "python",
   "nbconvert_exporter": "python",
   "pygments_lexer": "ipython3",
   "version": "3.5.0"
  }
 },
 "nbformat": 4,
 "nbformat_minor": 2
}
