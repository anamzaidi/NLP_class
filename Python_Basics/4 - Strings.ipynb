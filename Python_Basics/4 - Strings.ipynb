{
 "cells": [
  {
   "cell_type": "markdown",
   "metadata": {},
   "source": [
    "## Strings \n",
    "\n",
    "The built-in **str** class has many built-in functions for text processing. \n",
    "\n",
    "Strings can be enclosed in single or double quotes, and string literals inside triple quotes can span multiple lines.\n",
    "\n",
    "Python doesn't support a char class, so a single character is a string of length 1. \n",
    "\n",
    "You can access the individual characters in a string with [n], where n ranges from 0 to the length of the string.\n",
    "\n",
    "Python also supports negative indices. That is [-1] is the last element, [-2] is the next to last, and so on."
   ]
  },
  {
   "cell_type": "code",
   "execution_count": 1,
   "metadata": {
    "collapsed": false
   },
   "outputs": [
    {
     "name": "stdout",
     "output_type": "stream",
     "text": [
      "0 h\n",
      "1 e\n",
      "2 l\n",
      "3 l\n",
      "4 o\n"
     ]
    }
   ],
   "source": [
    "string1 = 'hello'\n",
    "for i in range(len(string1)):\n",
    "    print(i, string1[i])"
   ]
  },
  {
   "cell_type": "code",
   "execution_count": 2,
   "metadata": {
    "collapsed": false
   },
   "outputs": [
    {
     "name": "stdout",
     "output_type": "stream",
     "text": [
      "o\n",
      "l\n"
     ]
    }
   ],
   "source": [
    "print(string1[-1])\n",
    "print(string1[-2])"
   ]
  },
  {
   "cell_type": "markdown",
   "metadata": {},
   "source": [
    "### slicing\n",
    "\n",
    "string3[m:n] is a *slice* of string3 from string3[m] to string3[n-1]"
   ]
  },
  {
   "cell_type": "code",
   "execution_count": 3,
   "metadata": {
    "collapsed": false
   },
   "outputs": [
    {
     "data": {
      "text/plain": [
       "'Texas'"
      ]
     },
     "execution_count": 3,
     "metadata": {},
     "output_type": "execute_result"
    }
   ],
   "source": [
    "string3 = 'The University of Texas at Dallas'\n",
    "string3[18:23]"
   ]
  },
  {
   "cell_type": "markdown",
   "metadata": {},
   "source": [
    "You can omit the first or last index of a slice."
   ]
  },
  {
   "cell_type": "code",
   "execution_count": 4,
   "metadata": {
    "collapsed": false
   },
   "outputs": [
    {
     "name": "stdout",
     "output_type": "stream",
     "text": [
      "The  \t Dallas\n"
     ]
    }
   ],
   "source": [
    "print(string3[:4], '\\t', string3[27:])"
   ]
  },
  {
   "cell_type": "markdown",
   "metadata": {},
   "source": [
    "a[:n] + a[n:] gives you the whole string"
   ]
  },
  {
   "cell_type": "code",
   "execution_count": 5,
   "metadata": {
    "collapsed": false
   },
   "outputs": [
    {
     "data": {
      "text/plain": [
       "'The University of Texas at Dallas'"
      ]
     },
     "execution_count": 5,
     "metadata": {},
     "output_type": "execute_result"
    }
   ],
   "source": [
    "string3[:9] + string3[9:]"
   ]
  },
  {
   "cell_type": "markdown",
   "metadata": {},
   "source": [
    "If you omit both indices you get a copy"
   ]
  },
  {
   "cell_type": "code",
   "execution_count": 6,
   "metadata": {
    "collapsed": false
   },
   "outputs": [
    {
     "name": "stdout",
     "output_type": "stream",
     "text": [
      "The University of Texas at Dallas\n",
      "0x103ecadf0 0x103ecadf0\n"
     ]
    }
   ],
   "source": [
    "string3_cp = string3[:]\n",
    "print(string3_cp)\n",
    "\n",
    "# is it a new copy or just pointing to the other string?\n",
    "print(hex(id(string3)), hex(id(string3_cp)))"
   ]
  },
  {
   "cell_type": "markdown",
   "metadata": {},
   "source": [
    "Initially, they are pointing to the same location.\n",
    "\n",
    "However, if you change one, Python will create a new location.\n"
   ]
  },
  {
   "cell_type": "code",
   "execution_count": 7,
   "metadata": {
    "collapsed": false
   },
   "outputs": [
    {
     "name": "stdout",
     "output_type": "stream",
     "text": [
      "0x103edac00 0x103ecadf0\n"
     ]
    }
   ],
   "source": [
    "string3 = 'changed'\n",
    "print(hex(id(string3)), hex(id(string3_cp)))"
   ]
  },
  {
   "cell_type": "markdown",
   "metadata": {
    "collapsed": true
   },
   "source": [
    "### concatenate\n",
    "\n",
    "* use the + operator\n",
    "* make sure they are of the same type"
   ]
  },
  {
   "cell_type": "code",
   "execution_count": 8,
   "metadata": {
    "collapsed": false
   },
   "outputs": [
    {
     "data": {
      "text/plain": [
       "'my favorite number is 3'"
      ]
     },
     "execution_count": 8,
     "metadata": {},
     "output_type": "execute_result"
    }
   ],
   "source": [
    "string2 = 'my favorite number is ' + str(3)\n",
    "string2"
   ]
  },
  {
   "cell_type": "markdown",
   "metadata": {},
   "source": [
    "### other string operators\n",
    "\n",
    "* \\* repetition\n",
    "* in\n",
    "* % format"
   ]
  },
  {
   "cell_type": "code",
   "execution_count": 9,
   "metadata": {
    "collapsed": false
   },
   "outputs": [
    {
     "name": "stdout",
     "output_type": "stream",
     "text": [
      "ab\n",
      "aaa\n",
      "True\n",
      "Format an int: 5, a float: 5.60, a string: hi\n"
     ]
    }
   ],
   "source": [
    "print('a' + 'b')\n",
    "print('a' * 3)\n",
    "print('a' in string3)\n",
    "print(\"Format an int: %d, a float: %2.2f, a string: %s\" % (5, 5.6, 'hi'))"
   ]
  },
  {
   "cell_type": "markdown",
   "metadata": {
    "collapsed": true
   },
   "source": [
    "### string methods\n",
    "\n",
    "There are dozens of built-in string functions. You can read the documentation:\n",
    "\n",
    "https://docs.python.org/3/library/stdtypes.html#string-methods\n",
    "\n",
    "Here are some that are commonly used:\n",
    "\n",
    "* upper() and lower() to change case\n",
    "* isalpha(), isdigit(), isspace()\n",
    "* startswith() and endswith()\n",
    "* strip() to remove whitespace from start and end\n",
    "* split() to split into a list of strings\n",
    "* join() to join a list of strings into one string\n",
    "* find() - return index or -1\n",
    "* count() - count unique occurrences\n"
   ]
  },
  {
   "cell_type": "markdown",
   "metadata": {
    "collapsed": true
   },
   "source": [
    "### upper(), lower()\n",
    "\n",
    "These functions return a new string."
   ]
  },
  {
   "cell_type": "code",
   "execution_count": 10,
   "metadata": {
    "collapsed": false
   },
   "outputs": [
    {
     "name": "stdout",
     "output_type": "stream",
     "text": [
      "pied piper PIED PIPER\n"
     ]
    }
   ],
   "source": [
    "string_pp = 'Pied Piper'\n",
    "print(string_pp.lower(), string_pp.upper())"
   ]
  },
  {
   "cell_type": "markdown",
   "metadata": {
    "collapsed": true
   },
   "source": [
    "### isalpha(), isdigit(), isspace()\n",
    "\n",
    "These functions return a Boolean value."
   ]
  },
  {
   "cell_type": "code",
   "execution_count": 11,
   "metadata": {
    "collapsed": false
   },
   "outputs": [
    {
     "name": "stdout",
     "output_type": "stream",
     "text": [
      "True\n",
      "True\n",
      "True\n"
     ]
    }
   ],
   "source": [
    "string4 = 'number = 3'\n",
    "print(string4[0].isalpha())\n",
    "print(string4[-1].isdigit())\n",
    "print(string4[6].isspace())"
   ]
  },
  {
   "cell_type": "markdown",
   "metadata": {
    "collapsed": true
   },
   "source": [
    "### startswith() and endswith()\n",
    "\n",
    "These functions return a Boolean value."
   ]
  },
  {
   "cell_type": "code",
   "execution_count": 12,
   "metadata": {
    "collapsed": false
   },
   "outputs": [
    {
     "name": "stdout",
     "output_type": "stream",
     "text": [
      "True\n",
      "True\n"
     ]
    }
   ],
   "source": [
    "string_hello = 'hello world'\n",
    "print(string_hello.startswith('hello'))\n",
    "print(string_hello.endswith('world'))"
   ]
  },
  {
   "cell_type": "markdown",
   "metadata": {
    "collapsed": true
   },
   "source": [
    "### strip()\n",
    "\n",
    "Returns a string with the whitespace removed from both ends."
   ]
  },
  {
   "cell_type": "code",
   "execution_count": 13,
   "metadata": {
    "collapsed": false
   },
   "outputs": [
    {
     "data": {
      "text/plain": [
       "5"
      ]
     },
     "execution_count": 13,
     "metadata": {},
     "output_type": "execute_result"
    }
   ],
   "source": [
    "spacey = \" hello \"\n",
    "not_spacey = spacey.strip()\n",
    "len(not_spacey)"
   ]
  },
  {
   "cell_type": "markdown",
   "metadata": {},
   "source": [
    "### split()\n",
    "\n",
    "inputs a string, returns a list\n",
    "\n",
    "By default it splits on whtiespace but you can specify delimiters in the optional argument. "
   ]
  },
  {
   "cell_type": "code",
   "execution_count": 14,
   "metadata": {
    "collapsed": false
   },
   "outputs": [
    {
     "name": "stdout",
     "output_type": "stream",
     "text": [
      "this\n",
      "is\n",
      "a\n",
      "lot\n",
      "of\n",
      "text\n",
      "in\n",
      "a\n",
      "string\n"
     ]
    }
   ],
   "source": [
    "long_string = 'this is a lot of text in a string'\n",
    "tokens = long_string.split()\n",
    "for token in tokens:\n",
    "    print(token)"
   ]
  },
  {
   "cell_type": "markdown",
   "metadata": {},
   "source": [
    "### join()\n",
    "\n",
    "inputs a list, returns a string"
   ]
  },
  {
   "cell_type": "code",
   "execution_count": 15,
   "metadata": {
    "collapsed": false
   },
   "outputs": [
    {
     "name": "stdout",
     "output_type": "stream",
     "text": [
      "thisisalotoftextinastring\n",
      "this is a lot of text in a string\n",
      "this*is*a*lot*of*text*in*a*string\n"
     ]
    }
   ],
   "source": [
    "print(''.join(tokens))\n",
    "print(' '.join(tokens))\n",
    "print('*'.join(tokens))"
   ]
  },
  {
   "cell_type": "markdown",
   "metadata": {},
   "source": [
    "### find()\n",
    "\n",
    "returns the index of the found item or -1"
   ]
  },
  {
   "cell_type": "code",
   "execution_count": 16,
   "metadata": {
    "collapsed": false
   },
   "outputs": [
    {
     "data": {
      "text/plain": [
       "'Dallas'"
      ]
     },
     "execution_count": 16,
     "metadata": {},
     "output_type": "execute_result"
    }
   ],
   "source": [
    "string_utd = 'The University of Texas at Dallas'\n",
    "i = string_utd.find('Dallas')\n",
    "string_utd[i:]"
   ]
  },
  {
   "cell_type": "markdown",
   "metadata": {},
   "source": [
    "### count()\n",
    "\n",
    "returns an integer"
   ]
  },
  {
   "cell_type": "code",
   "execution_count": 17,
   "metadata": {
    "collapsed": false
   },
   "outputs": [
    {
     "data": {
      "text/plain": [
       "4"
      ]
     },
     "execution_count": 17,
     "metadata": {},
     "output_type": "execute_result"
    }
   ],
   "source": [
    "count_a = string_utd.count('a')\n",
    "count_a"
   ]
  },
  {
   "cell_type": "markdown",
   "metadata": {},
   "source": [
    "### Practice\n",
    "\n",
    "1. given a string, return the first and last characters joined into a new string; if the string is less than 2 characters, return the string\n",
    "2. given a string, return the number of vowels \n",
    "3. given a string, return a string containing all found vowels in order\n",
    "4. given a string, return a string containing 'aeiou' if all vowels found, 'ai' if only vowels a and i were found, etc."
   ]
  },
  {
   "cell_type": "code",
   "execution_count": null,
   "metadata": {
    "collapsed": true
   },
   "outputs": [],
   "source": []
  },
  {
   "cell_type": "markdown",
   "metadata": {
    "collapsed": true
   },
   "source": [
    "# Write to a file\n",
    "\n",
    "Writing to a file involves 3 steps:\n",
    "* open the file\n",
    "* write to the file\n",
    "* close the file\n",
    "\n",
    "All 3 are demonstrated below. Note that the write() function doesn't write newline so we need to."
   ]
  },
  {
   "cell_type": "code",
   "execution_count": 18,
   "metadata": {
    "collapsed": true
   },
   "outputs": [],
   "source": [
    "f = open('temp.txt', 'w')\n",
    "f.write('This is the first line\\n')\n",
    "f.write('This is another line\\n')\n",
    "f.close()"
   ]
  },
  {
   "cell_type": "markdown",
   "metadata": {},
   "source": [
    "Let's read the file in and print each line to the screen.\n",
    "\n",
    "f.read() reads the file while .splitlines() separates on newline, getting rid of newline in the process."
   ]
  },
  {
   "cell_type": "code",
   "execution_count": 19,
   "metadata": {
    "collapsed": false
   },
   "outputs": [
    {
     "name": "stdout",
     "output_type": "stream",
     "text": [
      "This is the first line\n",
      "This is another line\n"
     ]
    }
   ],
   "source": [
    "with open('temp.txt','r') as f:\n",
    "    lines = f.read().splitlines()\n",
    "for line in lines:\n",
    "    print(line)"
   ]
  },
  {
   "cell_type": "markdown",
   "metadata": {},
   "source": [
    "## Formatting output\n",
    "\n",
    "There are two ways to format output:\n",
    "* the old way looks like this: '%d %s' % (1, 'text')\n",
    "* the new way looks like this: '{} {}'.format(1, 'text')\n",
    "\n",
    "They work the same as shown below. "
   ]
  },
  {
   "cell_type": "code",
   "execution_count": 20,
   "metadata": {
    "collapsed": false
   },
   "outputs": [
    {
     "name": "stdout",
     "output_type": "stream",
     "text": [
      "1 text\n",
      "1 text\n"
     ]
    }
   ],
   "source": [
    "print('%d %s' % (1, 'text'))\n",
    "print('{} {}'.format(1, 'text'))"
   ]
  },
  {
   "cell_type": "code",
   "execution_count": 21,
   "metadata": {
    "collapsed": false
   },
   "outputs": [
    {
     "name": "stdout",
     "output_type": "stream",
     "text": [
      "Name: Ralph    Favorite number is 3      GPA is 3.70\n"
     ]
    }
   ],
   "source": [
    "num = 3\n",
    "gpa = 3.7\n",
    "name = 'Ralph'\n",
    "f = open('temp.txt', 'w')\n",
    "f.write('Name: {:8} Favorite number is {:d}      GPA is {:.2f}'.format(name, num, gpa))\n",
    "f.close\n",
    "\n",
    "# read back in\n",
    "with open('temp.txt', 'r') as f:\n",
    "    lines = f.read().splitlines()\n",
    "for line in lines:\n",
    "    print(line)"
   ]
  },
  {
   "cell_type": "markdown",
   "metadata": {},
   "source": [
    "Formatting is a lengthy and boring subject. When you need to know details, refer to the Python documentation or [this link](https://pyformat.info/)."
   ]
  },
  {
   "cell_type": "code",
   "execution_count": null,
   "metadata": {
    "collapsed": true
   },
   "outputs": [],
   "source": []
  }
 ],
 "metadata": {
  "kernelspec": {
   "display_name": "Python 3",
   "language": "python",
   "name": "python3"
  },
  "language_info": {
   "codemirror_mode": {
    "name": "ipython",
    "version": 3
   },
   "file_extension": ".py",
   "mimetype": "text/x-python",
   "name": "python",
   "nbconvert_exporter": "python",
   "pygments_lexer": "ipython3",
   "version": "3.5.0"
  }
 },
 "nbformat": 4,
 "nbformat_minor": 2
}
